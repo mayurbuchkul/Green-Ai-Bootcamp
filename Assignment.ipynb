{
 "cells": [
  {
   "cell_type": "code",
   "execution_count": 3,
   "id": "fdbea0f9-27b0-40b9-841b-1379aca9a38c",
   "metadata": {},
   "outputs": [
    {
     "name": "stdin",
     "output_type": "stream",
     "text": [
      "enter first number: 70\n",
      "enter second number: 35\n"
     ]
    },
    {
     "name": "stdout",
     "output_type": "stream",
     "text": [
      "addition of two no: 105\n",
      "difference between two no: 35\n",
      "product of two no: 2450\n",
      "quotient of two no: 0\n"
     ]
    }
   ],
   "source": [
    "#SECTION 1:\n",
    "#Q1.\n",
    "a=int(input(\"enter first number:\"))\n",
    "b=int(input(\"enter second number:\"))  \n",
    "add = a+b\n",
    "diff = a-b\n",
    "product = a*b\n",
    "quotient = a%b\n",
    "\n",
    "print(\"addition of two no:\",add)\n",
    "print(\"difference between two no:\",diff)\n",
    "print(\"product of two no:\",product)\n",
    "print(\"quotient of two no:\",quotient)"
   ]
  },
  {
   "cell_type": "code",
   "execution_count": 4,
   "id": "08ee486b-cef5-4104-8696-b5df79b8f8be",
   "metadata": {},
   "outputs": [
    {
     "name": "stdin",
     "output_type": "stream",
     "text": [
      "enter number: 45\n"
     ]
    },
    {
     "name": "stdout",
     "output_type": "stream",
     "text": [
      "odd\n"
     ]
    }
   ],
   "source": [
    "#Q2.\n",
    "a=int(input(\"enter number:\"))\n",
    "if a%2==0:\n",
    "    print(\"even\")\n",
    "else:\n",
    "    print(\"odd\")"
   ]
  },
  {
   "cell_type": "code",
   "execution_count": 6,
   "id": "d11e7124-e0bd-454a-af2b-92e2a9e91761",
   "metadata": {},
   "outputs": [
    {
     "name": "stdout",
     "output_type": "stream",
     "text": [
      "20 10\n"
     ]
    }
   ],
   "source": [
    "#Q3.\n",
    "a=10\n",
    "b=20\n",
    "a,b = b,a\n",
    "print(a,b)"
   ]
  },
  {
   "cell_type": "code",
   "execution_count": 10,
   "id": "2377f48b-4c17-4d9e-9f5f-1b0539039c31",
   "metadata": {},
   "outputs": [
    {
     "name": "stdin",
     "output_type": "stream",
     "text": [
      "Enter a number:  6\n"
     ]
    },
    {
     "name": "stdout",
     "output_type": "stream",
     "text": [
      "The factorial of 6 is 720\n"
     ]
    }
   ],
   "source": [
    "#Q4.\n",
    "num = int(input(\"Enter a number: \"))\n",
    "result = 1\n",
    "\n",
    "for i in range(1, num + 1):\n",
    "    result = result*i\n",
    "\n",
    "print(\"The factorial of\", num, \"is\", result)\n"
   ]
  },
  {
   "cell_type": "code",
   "execution_count": 11,
   "id": "ccba75c2-bcfb-40a3-a4ed-d7d24be782ce",
   "metadata": {},
   "outputs": [
    {
     "name": "stdin",
     "output_type": "stream",
     "text": [
      "enter first number: 10\n",
      "enter second number: 20\n",
      "enter third number: 30\n"
     ]
    },
    {
     "name": "stdout",
     "output_type": "stream",
     "text": [
      "largest no. 30\n"
     ]
    }
   ],
   "source": [
    "#Q5.\n",
    "a=int(input(\"enter first number:\"))\n",
    "b=int(input(\"enter second number:\")) \n",
    "c=int(input(\"enter third number:\")) \n",
    "\n",
    "if a>=b & a>=c:\n",
    "    print(\"largest no.\",a)\n",
    "elif b>=a & b>=c:\n",
    "    print(\"largest no.\",b)\n",
    "else:\n",
    "    print(\"largest no.\",c)\n"
   ]
  },
  {
   "cell_type": "code",
   "execution_count": 17,
   "id": "340c253c-cec4-4d42-8198-19d2a745b100",
   "metadata": {},
   "outputs": [
    {
     "name": "stdout",
     "output_type": "stream",
     "text": [
      "15\n"
     ]
    }
   ],
   "source": [
    "#SECTION 2\n",
    "\n",
    "#Q6\n",
    "list1 = [1,2,3,4,5]\n",
    "sum_elements = sum(list1)\n",
    "print(sum_elements)\n"
   ]
  },
  {
   "cell_type": "code",
   "execution_count": 18,
   "id": "5da79cc4-d900-42a2-a804-c00d9f413eea",
   "metadata": {},
   "outputs": [
    {
     "data": {
      "text/plain": [
       "{1, 2, 3, 4, 5}"
      ]
     },
     "execution_count": 18,
     "metadata": {},
     "output_type": "execute_result"
    }
   ],
   "source": [
    "#Q7\n",
    "set1 = {1,2,3,4,5,1,2,3,5}\n",
    "set1"
   ]
  },
  {
   "cell_type": "code",
   "execution_count": 51,
   "id": "7fb6f318-14b3-44d0-8b3f-14c2af3342f8",
   "metadata": {},
   "outputs": [
    {
     "name": "stdout",
     "output_type": "stream",
     "text": [
      "Shri\n",
      "Rohit\n",
      "Krushna\n"
     ]
    }
   ],
   "source": [
    "#Q8\n",
    "students = {\n",
    "    \"Shri\": 80,\n",
    "    \"Mayur\": 70,\n",
    "    \"Rohit\": 90,\n",
    "    \"Krushna\": 85\n",
    "}\n",
    "\n",
    "for name, marks in students.items():\n",
    "    if marks > 75:\n",
    "        print(name)\n"
   ]
  },
  {
   "cell_type": "code",
   "execution_count": 52,
   "id": "ce18fea5-e561-4ad4-ad35-cc1e75f20d24",
   "metadata": {},
   "outputs": [
    {
     "data": {
      "text/plain": [
       "(5, 4, 3, 2, 1)"
      ]
     },
     "execution_count": 52,
     "metadata": {},
     "output_type": "execute_result"
    }
   ],
   "source": [
    "#Q9\n",
    "\n",
    "a = (1,2,3,4,5)\n",
    "a[::-1]"
   ]
  },
  {
   "cell_type": "code",
   "execution_count": 53,
   "id": "de1f692b-d230-429f-b2c3-9023bbe74d6f",
   "metadata": {},
   "outputs": [
    {
     "name": "stdin",
     "output_type": "stream",
     "text": [
      "Enter a string: Mayur buchkul\n"
     ]
    },
    {
     "name": "stdout",
     "output_type": "stream",
     "text": [
      "Number of vowels in 'Mayur buchkul': 4\n"
     ]
    }
   ],
   "source": [
    "#Q10.\n",
    "def count_vowels(input_string):\n",
    "    vowels = ['a', 'e', 'i', 'o', 'u']\n",
    "    \n",
    "    vowel_count = 0\n",
    "    \n",
    "    for char in input_string.lower(): \n",
    "        if char in vowels:\n",
    "            vowel_count += 1\n",
    "    \n",
    "    return vowel_count\n",
    "    \n",
    "input_string = input(\"Enter a string:\")\n",
    "print(f\"Number of vowels in '{input_string}': {count_vowels(input_string)}\")\n"
   ]
  },
  {
   "cell_type": "code",
   "execution_count": 1,
   "id": "0318265e-e47f-4094-b147-2da4b84815b3",
   "metadata": {},
   "outputs": [
    {
     "name": "stdin",
     "output_type": "stream",
     "text": [
      "enter any number: 24\n"
     ]
    },
    {
     "name": "stdout",
     "output_type": "stream",
     "text": [
      "24 is not a prime number.\n"
     ]
    }
   ],
   "source": [
    "#LOOPS AND FUNCTION\n",
    "#Q11\n",
    "num = int(input(\"enter any number:\"))\n",
    "\n",
    "def is_prime(n):\n",
    "    if n <= 1:\n",
    "        return False\n",
    "    for i in range(2, int(n ** 0.5) + 1):\n",
    "        if n % i == 0:\n",
    "            return False\n",
    "    return True\n",
    "\n",
    "if is_prime(num):\n",
    "    print(f\"{num} is a prime number.\")\n",
    "else:\n",
    "    print(f\"{num} is not a prime number.\")\n",
    "\n"
   ]
  },
  {
   "cell_type": "code",
   "execution_count": 42,
   "id": "786ef67d-b634-461c-a8cb-5a7e62928143",
   "metadata": {},
   "outputs": [
    {
     "name": "stdin",
     "output_type": "stream",
     "text": [
      "Enter the number of terms:  15\n"
     ]
    },
    {
     "name": "stdout",
     "output_type": "stream",
     "text": [
      "Fibonacci series up to 15 terms: [0, 1, 1, 2, 3, 5, 8, 13, 21, 34, 55, 89, 144, 233, 377]\n"
     ]
    }
   ],
   "source": [
    "#Q12\n",
    "def fibonacci(n):\n",
    "    fib_series = []\n",
    "    a, b = 0, 1\n",
    "    for _ in range(n):\n",
    "        fib_series.append(a)\n",
    "        a, b = b, a + b\n",
    "    return fib_series\n",
    "\n",
    "n = int(input(\"Enter the number of terms: \"))\n",
    "\n",
    "series = fibonacci(n)\n",
    "\n",
    "print(f\"Fibonacci series up to {n} terms: {series}\")\n"
   ]
  },
  {
   "cell_type": "code",
   "execution_count": 49,
   "id": "7959e404-748e-43fc-98ea-f11a4c5e061c",
   "metadata": {},
   "outputs": [
    {
     "name": "stdin",
     "output_type": "stream",
     "text": [
      "Enter a number:  14\n"
     ]
    },
    {
     "name": "stdout",
     "output_type": "stream",
     "text": [
      "14 x 1 = 14\n",
      "14 x 2 = 28\n",
      "14 x 3 = 42\n",
      "14 x 4 = 56\n",
      "14 x 5 = 70\n",
      "14 x 6 = 84\n",
      "14 x 7 = 98\n",
      "14 x 8 = 112\n",
      "14 x 9 = 126\n",
      "14 x 10 = 140\n"
     ]
    }
   ],
   "source": [
    "#Q13\n",
    "number = int(input(\"Enter a number: \"))\n",
    "\n",
    "def multiplication_table(number):\n",
    "    i = 1\n",
    "    while i <= 10:\n",
    "        print(f\"{number} x {i} = {number * i}\")\n",
    "        i += 1\n",
    "\n",
    "multiplication_table(number)\n"
   ]
  },
  {
   "cell_type": "code",
   "execution_count": 50,
   "id": "365b75e1-695a-4037-9aa4-479b69f41ac1",
   "metadata": {},
   "outputs": [
    {
     "name": "stdin",
     "output_type": "stream",
     "text": [
      "Enter a number:  45\n"
     ]
    },
    {
     "name": "stdout",
     "output_type": "stream",
     "text": [
      "The sum of digits of 45 is 9\n"
     ]
    }
   ],
   "source": [
    "#Q14\n",
    "def sum_of_digits(number):\n",
    "    sum_digits = 0\n",
    "    while number > 0:\n",
    "        digit = number % 10 \n",
    "        sum_digits += digit \n",
    "        number //= 10\n",
    "    return sum_digits\n",
    "\n",
    "num = int(input(\"Enter a number: \"))\n",
    "result = sum_of_digits(num)\n",
    "print(f\"The sum of digits of {num} is {result}\")\n"
   ]
  },
  {
   "cell_type": "code",
   "execution_count": 11,
   "id": "5bfb068c-50d4-445a-89de-18baee4b165b",
   "metadata": {},
   "outputs": [
    {
     "name": "stdout",
     "output_type": "stream",
     "text": [
      "78.53981633974483\n"
     ]
    }
   ],
   "source": [
    "#Q15\n",
    "import math\n",
    "\n",
    "def area_of_circle(radius):\n",
    "    if radius < 0:\n",
    "        raise ValueError(\"Radius cannot be negative.\")\n",
    "    return math.pi * radius ** 2\n",
    "\n",
    "print(area_of_circle(5))  \n"
   ]
  },
  {
   "cell_type": "code",
   "execution_count": 23,
   "id": "1007cfb2-861b-49e9-86c6-44be52b75543",
   "metadata": {},
   "outputs": [
    {
     "name": "stdout",
     "output_type": "stream",
     "text": [
      "Line appended successfully.\n"
     ]
    }
   ],
   "source": [
    "#SECTION 4\n",
    "#Q20\n",
    "\n",
    "def append_line_to_file(filename, text_line):\n",
    "    try:\n",
    "        with open(filename, 'a') as file:\n",
    "            file.write(text_line + '\\n')\n",
    "        print(\"Line appended successfully.\")\n",
    "    except FileNotFoundError:\n",
    "        print(\"Error: The file does not exist.\")\n",
    "    except Exception as e:\n",
    "        print(f\"An error occurred: {e}\")\n",
    "\n",
    "\n",
    "append_line_to_file('example.txt', 'This is a new line of text.')\n"
   ]
  },
  {
   "cell_type": "code",
   "execution_count": 21,
   "id": "e1ce0542-ceef-4c15-98a5-9c263563d565",
   "metadata": {},
   "outputs": [
    {
     "name": "stdout",
     "output_type": "stream",
     "text": [
      "Student Name: Mayur\n",
      "Roll Number: 3\n",
      "Marks: 89.5\n"
     ]
    }
   ],
   "source": [
    "#SECTION 5\n",
    "#Q21\n",
    "\n",
    "class Student:\n",
    "    def __init__(self, name, roll, marks):\n",
    "        self.name = name\n",
    "        self.roll = roll\n",
    "        self.marks = marks\n",
    "\n",
    "    def display_details(self):\n",
    "        print(f\"Student Name: {self.name}\")\n",
    "        print(f\"Roll Number: {self.roll}\")\n",
    "        print(f\"Marks: {self.marks}\")\n",
    "\n",
    "student1 = Student(\"Mayur\", 3, 89.5)\n",
    "student1.display_details()\n"
   ]
  },
  {
   "cell_type": "code",
   "execution_count": 57,
   "id": "b5b22e22-06ec-4e29-855e-7bd4e4372fa8",
   "metadata": {},
   "outputs": [
    {
     "name": "stdout",
     "output_type": "stream",
     "text": [
      "Addition: 15\n",
      "Subtraction: 5\n",
      "Multiplication: 50\n",
      "Division: 2.0\n"
     ]
    }
   ],
   "source": [
    "#Q22\n",
    "class Calculator:\n",
    "    def add(self, a, b):\n",
    "        return a + b\n",
    "\n",
    "    def subtract(self, a, b):\n",
    "        return a - b\n",
    "\n",
    "    def multiply(self, a, b):\n",
    "        return a * b\n",
    "\n",
    "    def divide(self, a, b):\n",
    "        if b == 0:\n",
    "            return \"Error: Cannot divide by zero.\"\n",
    "        return a / b\n",
    "\n",
    "calc = Calculator()\n",
    "\n",
    "print(\"Addition:\", calc.add(10, 5))\n",
    "print(\"Subtraction:\", calc.subtract(10, 5))\n",
    "print(\"Multiplication:\", calc.multiply(10, 5))\n",
    "print(\"Division:\", calc.divide(10, 5))\n"
   ]
  },
  {
   "cell_type": "code",
   "execution_count": 59,
   "id": "f0dfcccc-138f-4c90-b949-b057fde14e24",
   "metadata": {},
   "outputs": [
    {
     "name": "stdout",
     "output_type": "stream",
     "text": [
      "Brand: Toyota\n",
      "Model: Fortuner\n",
      "Colour of car: black\n"
     ]
    }
   ],
   "source": [
    "#Q23\n",
    "class Vehicle:\n",
    "    def __init__(self, brand, model):\n",
    "        self.brand = brand\n",
    "        self.model = model\n",
    "\n",
    "    def display_info(self):\n",
    "        print(f\"Brand: {self.brand}\")\n",
    "        print(f\"Model: {self.model}\")\n",
    "        \n",
    "class Car(Vehicle):\n",
    "    def __init__(self, brand, model, colour):\n",
    "        super().__init__(brand, model)  \n",
    "        self.colour = colour\n",
    "\n",
    "    def display_info(self):\n",
    "        super().display_info()  \n",
    "        print(f\"Colour of car: {self.colour}\")\n",
    "\n",
    "car1 = Car(\"Toyota\", \"Fortuner\", \"black\")\n",
    "car1.display_info()\n"
   ]
  },
  {
   "cell_type": "code",
   "execution_count": 27,
   "id": "51a7a93c-057e-41d3-94df-9081bf69a674",
   "metadata": {},
   "outputs": [
    {
     "name": "stdout",
     "output_type": "stream",
     "text": [
      "Constructor called. Object created for Mayur\n",
      "Hello, my name is Mayur.\n",
      "Destructor called. Object for Mayur is being deleted.\n"
     ]
    }
   ],
   "source": [
    "#24\n",
    "class Demo:\n",
    "    def __init__(self, name):\n",
    "        self.name = name\n",
    "        print(f\"Constructor called. Object created for {self.name}\")\n",
    "\n",
    "    def show(self):\n",
    "        print(f\"Hello, my name is {self.name}.\")\n",
    "\n",
    "    def __del__(self):\n",
    "        print(f\"Destructor called. Object for {self.name} is being deleted.\")\n",
    "\n",
    "\n",
    "obj = Demo(\"Mayur\")\n",
    "obj.show()\n",
    "\n",
    "del obj\n"
   ]
  },
  {
   "cell_type": "code",
   "execution_count": 61,
   "id": "ccda8611-db25-4600-871e-ef5d64dd04bc",
   "metadata": {},
   "outputs": [
    {
     "name": "stdout",
     "output_type": "stream",
     "text": [
      "Result of addition: (8, 11)\n"
     ]
    }
   ],
   "source": [
    "#Q25\n",
    "class Point:\n",
    "    def __init__(self, x, y):\n",
    "        self.x = x\n",
    "        self.y = y\n",
    "\n",
    "    def __add__(self, other):\n",
    "        return Point(self.x + other.x, self.y + other.y)\n",
    "\n",
    "    def __str__(self):\n",
    "        return f\"({self.x}, {self.y})\"\n",
    "\n",
    "point1 = Point(3, 4)\n",
    "point2 = Point(5, 7)\n",
    "\n",
    "result = point1 + point2  \n",
    "print(\"Result of addition:\", result)\n"
   ]
  },
  {
   "cell_type": "code",
   "execution_count": 65,
   "id": "72ccc58e-1e88-4e67-be17-f3d73db1ca57",
   "metadata": {},
   "outputs": [
    {
     "name": "stdout",
     "output_type": "stream",
     "text": [
      "Mini Calculator\n",
      "Choose an operation: +, -, *, /\n"
     ]
    },
    {
     "name": "stdin",
     "output_type": "stream",
     "text": [
      "Enter operator:  +\n",
      "Enter first number:  7\n",
      "Enter second number:  27\n"
     ]
    },
    {
     "name": "stdout",
     "output_type": "stream",
     "text": [
      "Result: 34.0\n"
     ]
    }
   ],
   "source": [
    "#SECTION 6\n",
    "#Q26\n",
    "\n",
    "def add(a, b):\n",
    "    return a + b\n",
    "\n",
    "def subtract(a, b):\n",
    "    return a - b\n",
    "\n",
    "def multiply(a, b):\n",
    "    return a * b\n",
    "\n",
    "def divide(a, b):\n",
    "    if b == 0:\n",
    "        return \"Error: Cannot divide by zero.\"\n",
    "    return a / b\n",
    "\n",
    "def calculator():\n",
    "    print(\"Mini Calculator\")\n",
    "    print(\"Choose an operation: +, -, *, /\")\n",
    "    op = input(\"Enter operator: \")\n",
    "\n",
    "    a = float(input(\"Enter first number: \"))\n",
    "    b = float(input(\"Enter second number: \"))\n",
    "\n",
    "    if op == '+':\n",
    "        print(\"Result:\", add(a, b))\n",
    "    elif op == '-':\n",
    "        print(\"Result:\", subtract(a, b))\n",
    "    elif op == '*':\n",
    "        print(\"Result:\", multiply(a, b))\n",
    "    elif op == '/':\n",
    "        print(\"Result:\", divide(a, b))\n",
    "    else:\n",
    "        print(\"Invalid operator!\")\n",
    "\n",
    "calculator()\n"
   ]
  },
  {
   "cell_type": "code",
   "execution_count": 67,
   "id": "e7f3a119-52bc-4a85-96aa-68c6c26302f3",
   "metadata": {},
   "outputs": [
    {
     "name": "stdout",
     "output_type": "stream",
     "text": [
      "=== Login System ===\n"
     ]
    },
    {
     "name": "stdin",
     "output_type": "stream",
     "text": [
      "Enter username:  MAYUR\n",
      "Enter password:  1234\n"
     ]
    },
    {
     "name": "stdout",
     "output_type": "stream",
     "text": [
      "Login successful! ✅\n"
     ]
    }
   ],
   "source": [
    "#Q27\n",
    "\n",
    "USERNAME = \"mayur\"\n",
    "PASSWORD = \"1234\"\n",
    "\n",
    "def login():\n",
    "    print(\"=== Login System ===\")\n",
    "    entered_username = input(\"Enter username: \")\n",
    "    entered_password = input(\"Enter password: \")\n",
    "\n",
    "    if entered_username.lower() == USERNAME and entered_password == PASSWORD:\n",
    "        print(\"Login successful! ✅\")\n",
    "    else:\n",
    "        print(\"Invalid username or password. ❌\")\n",
    "\n",
    "login()\n"
   ]
  },
  {
   "cell_type": "code",
   "execution_count": 69,
   "id": "23402d46-6684-4463-9e7f-236b87e42eec",
   "metadata": {},
   "outputs": [
    {
     "name": "stdout",
     "output_type": "stream",
     "text": [
      "=== Celsius to Fahrenheit Converter ===\n"
     ]
    },
    {
     "name": "stdin",
     "output_type": "stream",
     "text": [
      "Enter temperature in Celsius:  35\n"
     ]
    },
    {
     "name": "stdout",
     "output_type": "stream",
     "text": [
      "35.0°C is equal to 95.00°F\n"
     ]
    }
   ],
   "source": [
    "#Q28\n",
    "def celsius_to_fahrenheit(celsius):\n",
    "    return (celsius * 9/5) + 32\n",
    "\n",
    "def main():\n",
    "    print(\"=== Celsius to Fahrenheit Converter ===\")\n",
    "    try:\n",
    "        celsius = float(input(\"Enter temperature in Celsius: \"))\n",
    "        fahrenheit = celsius_to_fahrenheit(celsius)\n",
    "        print(f\"{celsius}°C is equal to {fahrenheit:.2f}°F\")\n",
    "    except ValueError:\n",
    "        print(\"Invalid input! Please enter a number.\")\n",
    "\n",
    "main()\n"
   ]
  },
  {
   "cell_type": "code",
   "execution_count": 77,
   "id": "c63aec66-c4b2-4e8a-8660-ee6e5488eeb7",
   "metadata": {},
   "outputs": [
    {
     "name": "stdout",
     "output_type": "stream",
     "text": [
      "Current balance: ₹1000\n",
      "Deposited: ₹500\n",
      "Withdrew: ₹200\n",
      "Current balance: ₹1300\n",
      "Insufficient funds!\n"
     ]
    }
   ],
   "source": [
    "#Q29\n",
    "class BankAccount:\n",
    "    def __init__(self, owner, balance=0):\n",
    "        self.owner = owner\n",
    "        self.balance = balance\n",
    "\n",
    "    def deposit(self, amount):\n",
    "        if amount > 0:\n",
    "            self.balance += amount\n",
    "            print(f\"Deposited: ₹{amount}\")\n",
    "        else:\n",
    "            print(\"Deposit amount must be positive.\")\n",
    "\n",
    "    def withdraw(self, amount):\n",
    "        if amount > 0 and amount <= self.balance:\n",
    "            self.balance -= amount\n",
    "            print(f\"Withdrew: ₹{amount}\")\n",
    "        elif amount > self.balance:\n",
    "            print(\"Insufficient funds!\")\n",
    "        else:\n",
    "            print(\"Withdrawal amount must be positive.\")\n",
    "\n",
    "    def check_balance(self):\n",
    "        print(f\"Current balance: ₹{self.balance}\")\n",
    "\n",
    "account = BankAccount(\"Mayur Buchkul\", 1000)\n",
    "\n",
    "account.check_balance()\n",
    "account.deposit(500)\n",
    "account.withdraw(200)\n",
    "account.check_balance()\n",
    "account.withdraw(2000)\n"
   ]
  },
  {
   "cell_type": "code",
   "execution_count": 73,
   "id": "f2bef041-cc5c-4783-9839-3ce7538510b6",
   "metadata": {},
   "outputs": [
    {
     "name": "stdin",
     "output_type": "stream",
     "text": [
      "Enter a sentence:  MYSELF MAYUR BUCHKUL\n"
     ]
    },
    {
     "name": "stdout",
     "output_type": "stream",
     "text": [
      "Word Frequencies:\n",
      "'myself': 1\n",
      "'mayur': 1\n",
      "'buchkul': 1\n"
     ]
    }
   ],
   "source": [
    "#30\n",
    "from collections import Counter\n",
    "\n",
    "def word_frequency(sentence):\n",
    "    words = sentence.lower().split()\n",
    "    word_count = Counter(words)\n",
    "\n",
    "    print(\"Word Frequencies:\")\n",
    "    for word, count in word_count.items():\n",
    "        print(f\"'{word}': {count}\")\n",
    "\n",
    "def main():\n",
    "    sentence = input(\"Enter a sentence: \")\n",
    "    word_frequency(sentence)\n",
    "\n",
    "main()\n"
   ]
  },
  {
   "cell_type": "code",
   "execution_count": null,
   "id": "7d64aa2a-bcd7-4add-9ecd-2a5c488a6e05",
   "metadata": {},
   "outputs": [],
   "source": []
  }
 ],
 "metadata": {
  "kernelspec": {
   "display_name": "Python [conda env:New folder]",
   "language": "python",
   "name": "conda-env-New_folder-py"
  },
  "language_info": {
   "codemirror_mode": {
    "name": "ipython",
    "version": 3
   },
   "file_extension": ".py",
   "mimetype": "text/x-python",
   "name": "python",
   "nbconvert_exporter": "python",
   "pygments_lexer": "ipython3",
   "version": "3.12.7"
  }
 },
 "nbformat": 4,
 "nbformat_minor": 5
}
