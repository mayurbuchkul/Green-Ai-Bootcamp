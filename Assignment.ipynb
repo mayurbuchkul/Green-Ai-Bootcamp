{
 "cells": [
  {
   "cell_type": "code",
   "execution_count": 3,
   "id": "fdbea0f9-27b0-40b9-841b-1379aca9a38c",
   "metadata": {},
   "outputs": [
    {
     "name": "stdin",
     "output_type": "stream",
     "text": [
      "enter first number: 70\n",
      "enter second number: 35\n"
     ]
    },
    {
     "name": "stdout",
     "output_type": "stream",
     "text": [
      "addition of two no: 105\n",
      "difference between two no: 35\n",
      "product of two no: 2450\n",
      "quotient of two no: 0\n"
     ]
    }
   ],
   "source": [
    "#SECTION 1:\n",
    "#Q1.\n",
    "a=int(input(\"enter first number:\"))\n",
    "b=int(input(\"enter second number:\"))  \n",
    "add = a+b\n",
    "diff = a-b\n",
    "product = a*b\n",
    "quotient = a%b\n",
    "\n",
    "print(\"addition of two no:\",add)\n",
    "print(\"difference between two no:\",diff)\n",
    "print(\"product of two no:\",product)\n",
    "print(\"quotient of two no:\",quotient)"
   ]
  },
  {
   "cell_type": "code",
   "execution_count": 4,
   "id": "08ee486b-cef5-4104-8696-b5df79b8f8be",
   "metadata": {},
   "outputs": [
    {
     "name": "stdin",
     "output_type": "stream",
     "text": [
      "enter number: 45\n"
     ]
    },
    {
     "name": "stdout",
     "output_type": "stream",
     "text": [
      "odd\n"
     ]
    }
   ],
   "source": [
    "#Q2.\n",
    "a=int(input(\"enter number:\"))\n",
    "if a%2==0:\n",
    "    print(\"even\")\n",
    "else:\n",
    "    print(\"odd\")"
   ]
  },
  {
   "cell_type": "code",
   "execution_count": 6,
   "id": "d11e7124-e0bd-454a-af2b-92e2a9e91761",
   "metadata": {},
   "outputs": [
    {
     "name": "stdout",
     "output_type": "stream",
     "text": [
      "20 10\n"
     ]
    }
   ],
   "source": [
    "#Q3.\n",
    "a=10\n",
    "b=20\n",
    "a,b = b,a\n",
    "print(a,b)"
   ]
  },
  {
   "cell_type": "code",
   "execution_count": 10,
   "id": "2377f48b-4c17-4d9e-9f5f-1b0539039c31",
   "metadata": {},
   "outputs": [
    {
     "name": "stdin",
     "output_type": "stream",
     "text": [
      "Enter a number:  6\n"
     ]
    },
    {
     "name": "stdout",
     "output_type": "stream",
     "text": [
      "The factorial of 6 is 720\n"
     ]
    }
   ],
   "source": [
    "#Q4.\n",
    "num = int(input(\"Enter a number: \"))\n",
    "result = 1\n",
    "\n",
    "for i in range(1, num + 1):\n",
    "    result = result*i\n",
    "\n",
    "print(\"The factorial of\", num, \"is\", result)\n"
   ]
  },
  {
   "cell_type": "code",
   "execution_count": 11,
   "id": "ccba75c2-bcfb-40a3-a4ed-d7d24be782ce",
   "metadata": {},
   "outputs": [
    {
     "name": "stdin",
     "output_type": "stream",
     "text": [
      "enter first number: 10\n",
      "enter second number: 20\n",
      "enter third number: 30\n"
     ]
    },
    {
     "name": "stdout",
     "output_type": "stream",
     "text": [
      "largest no. 30\n"
     ]
    }
   ],
   "source": [
    "#Q5.\n",
    "a=int(input(\"enter first number:\"))\n",
    "b=int(input(\"enter second number:\")) \n",
    "c=int(input(\"enter third number:\")) \n",
    "\n",
    "if a>=b & a>=c:\n",
    "    print(\"largest no.\",a)\n",
    "elif b>=a & b>=c:\n",
    "    print(\"largest no.\",b)\n",
    "else:\n",
    "    print(\"largest no.\",c)\n"
   ]
  },
  {
   "cell_type": "code",
   "execution_count": 17,
   "id": "340c253c-cec4-4d42-8198-19d2a745b100",
   "metadata": {},
   "outputs": [
    {
     "name": "stdout",
     "output_type": "stream",
     "text": [
      "15\n"
     ]
    }
   ],
   "source": [
    "#SECTION 2\n",
    "\n",
    "#Q6\n",
    "list1 = [1,2,3,4,5]\n",
    "sum_elements = sum(list1)\n",
    "print(sum_elements)\n"
   ]
  },
  {
   "cell_type": "code",
   "execution_count": 18,
   "id": "5da79cc4-d900-42a2-a804-c00d9f413eea",
   "metadata": {},
   "outputs": [
    {
     "data": {
      "text/plain": [
       "{1, 2, 3, 4, 5}"
      ]
     },
     "execution_count": 18,
     "metadata": {},
     "output_type": "execute_result"
    }
   ],
   "source": [
    "#Q7\n",
    "set1 = {1,2,3,4,5,1,2,3,5}\n",
    "set1"
   ]
  },
  {
   "cell_type": "code",
   "execution_count": 51,
   "id": "7fb6f318-14b3-44d0-8b3f-14c2af3342f8",
   "metadata": {},
   "outputs": [
    {
     "name": "stdout",
     "output_type": "stream",
     "text": [
      "Shri\n",
      "Rohit\n",
      "Krushna\n"
     ]
    }
   ],
   "source": [
    "#Q8\n",
    "students = {\n",
    "    \"Shri\": 80,\n",
    "    \"Mayur\": 70,\n",
    "    \"Rohit\": 90,\n",
    "    \"Krushna\": 85\n",
    "}\n",
    "\n",
    "for name, marks in students.items():\n",
    "    if marks > 75:\n",
    "        print(name)\n"
   ]
  },
  {
   "cell_type": "code",
   "execution_count": 52,
   "id": "ce18fea5-e561-4ad4-ad35-cc1e75f20d24",
   "metadata": {},
   "outputs": [
    {
     "data": {
      "text/plain": [
       "(5, 4, 3, 2, 1)"
      ]
     },
     "execution_count": 52,
     "metadata": {},
     "output_type": "execute_result"
    }
   ],
   "source": [
    "#Q9\n",
    "\n",
    "a = (1,2,3,4,5)\n",
    "a[::-1]"
   ]
  },
  {
   "cell_type": "code",
   "execution_count": 53,
   "id": "de1f692b-d230-429f-b2c3-9023bbe74d6f",
   "metadata": {},
   "outputs": [
    {
     "name": "stdin",
     "output_type": "stream",
     "text": [
      "Enter a string: Mayur buchkul\n"
     ]
    },
    {
     "name": "stdout",
     "output_type": "stream",
     "text": [
      "Number of vowels in 'Mayur buchkul': 4\n"
     ]
    }
   ],
   "source": [
    "#Q10.\n",
    "def count_vowels(input_string):\n",
    "    vowels = ['a', 'e', 'i', 'o', 'u']\n",
    "    \n",
    "    vowel_count = 0\n",
    "    \n",
    "    for char in input_string.lower(): \n",
    "        if char in vowels:\n",
    "            vowel_count += 1\n",
    "    \n",
    "    return vowel_count\n",
    "    \n",
    "input_string = input(\"Enter a string:\")\n",
    "print(f\"Number of vowels in '{input_string}': {count_vowels(input_string)}\")\n"
   ]
  },
  {
   "cell_type": "code",
   "execution_count": 40,
   "id": "0318265e-e47f-4094-b147-2da4b84815b3",
   "metadata": {},
   "outputs": [
    {
     "name": "stdin",
     "output_type": "stream",
     "text": [
      "enter any number: 52\n"
     ]
    },
    {
     "name": "stdout",
     "output_type": "stream",
     "text": [
      "52 is not a prime number.\n"
     ]
    }
   ],
   "source": [
    "#Q11\n",
    "num = int(input(\"enter any number:\"))\n",
    "\n",
    "def is_prime(n):\n",
    "    if n <= 1:\n",
    "        return False\n",
    "    for i in range(2, int(n ** 0.5) + 1):\n",
    "        if n % i == 0:\n",
    "            return False\n",
    "    return True\n",
    "\n",
    "if is_prime(num):\n",
    "    print(f\"{num} is a prime number.\")\n",
    "else:\n",
    "    print(f\"{num} is not a prime number.\")\n",
    "\n"
   ]
  },
  {
   "cell_type": "code",
   "execution_count": 42,
   "id": "786ef67d-b634-461c-a8cb-5a7e62928143",
   "metadata": {},
   "outputs": [
    {
     "name": "stdin",
     "output_type": "stream",
     "text": [
      "Enter the number of terms:  15\n"
     ]
    },
    {
     "name": "stdout",
     "output_type": "stream",
     "text": [
      "Fibonacci series up to 15 terms: [0, 1, 1, 2, 3, 5, 8, 13, 21, 34, 55, 89, 144, 233, 377]\n"
     ]
    }
   ],
   "source": [
    "#Q12\n",
    "def fibonacci(n):\n",
    "    fib_series = []\n",
    "    a, b = 0, 1\n",
    "    for _ in range(n):\n",
    "        fib_series.append(a)\n",
    "        a, b = b, a + b\n",
    "    return fib_series\n",
    "\n",
    "n = int(input(\"Enter the number of terms: \"))\n",
    "\n",
    "series = fibonacci(n)\n",
    "\n",
    "print(f\"Fibonacci series up to {n} terms: {series}\")\n"
   ]
  },
  {
   "cell_type": "code",
   "execution_count": 49,
   "id": "7959e404-748e-43fc-98ea-f11a4c5e061c",
   "metadata": {},
   "outputs": [
    {
     "name": "stdin",
     "output_type": "stream",
     "text": [
      "Enter a number:  14\n"
     ]
    },
    {
     "name": "stdout",
     "output_type": "stream",
     "text": [
      "14 x 1 = 14\n",
      "14 x 2 = 28\n",
      "14 x 3 = 42\n",
      "14 x 4 = 56\n",
      "14 x 5 = 70\n",
      "14 x 6 = 84\n",
      "14 x 7 = 98\n",
      "14 x 8 = 112\n",
      "14 x 9 = 126\n",
      "14 x 10 = 140\n"
     ]
    }
   ],
   "source": [
    "#Q13\n",
    "number = int(input(\"Enter a number: \"))\n",
    "\n",
    "def multiplication_table(number):\n",
    "    i = 1\n",
    "    while i <= 10:\n",
    "        print(f\"{number} x {i} = {number * i}\")\n",
    "        i += 1\n",
    "\n",
    "multiplication_table(number)\n"
   ]
  },
  {
   "cell_type": "code",
   "execution_count": 50,
   "id": "365b75e1-695a-4037-9aa4-479b69f41ac1",
   "metadata": {},
   "outputs": [
    {
     "name": "stdin",
     "output_type": "stream",
     "text": [
      "Enter a number:  45\n"
     ]
    },
    {
     "name": "stdout",
     "output_type": "stream",
     "text": [
      "The sum of digits of 45 is 9\n"
     ]
    }
   ],
   "source": [
    "#Q14\n",
    "def sum_of_digits(number):\n",
    "    sum_digits = 0\n",
    "    while number > 0:\n",
    "        digit = number % 10 \n",
    "        sum_digits += digit \n",
    "        number //= 10\n",
    "    return sum_digits\n",
    "\n",
    "num = int(input(\"Enter a number: \"))\n",
    "result = sum_of_digits(num)\n",
    "print(f\"The sum of digits of {num} is {result}\")\n"
   ]
  },
  {
   "cell_type": "code",
   "execution_count": null,
   "id": "5bfb068c-50d4-445a-89de-18baee4b165b",
   "metadata": {},
   "outputs": [],
   "source": []
  }
 ],
 "metadata": {
  "kernelspec": {
   "display_name": "Python 3 (ipykernel)",
   "language": "python",
   "name": "python3"
  },
  "language_info": {
   "codemirror_mode": {
    "name": "ipython",
    "version": 3
   },
   "file_extension": ".py",
   "mimetype": "text/x-python",
   "name": "python",
   "nbconvert_exporter": "python",
   "pygments_lexer": "ipython3",
   "version": "3.12.7"
  }
 },
 "nbformat": 4,
 "nbformat_minor": 5
}
