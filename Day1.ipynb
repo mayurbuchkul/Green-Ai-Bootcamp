{
 "cells": [
  {
   "cell_type": "code",
   "execution_count": 1,
   "id": "144651aa-9309-4fad-b30f-fa0ada343f3b",
   "metadata": {},
   "outputs": [],
   "source": [
    "#COMMENTS"
   ]
  },
  {
   "cell_type": "code",
   "execution_count": 9,
   "id": "9b004ca0-c4c4-4a9e-a3f2-080a14b07653",
   "metadata": {},
   "outputs": [],
   "source": [
    "''' \n",
    "this is multi line comment\n",
    "['False', 'None', 'True', 'and', 'as', 'assert', 'async', 'await', 'break', 'class', \n",
    "\\'continue', 'def', 'del', 'elif', 'else', 'except', 'finally', 'for', 'from', 'global', \n",
    "'if', 'import', 'in', 'is', 'lambda', 'nonlocal', 'not', 'or', 'pass', 'raise', 'return', \n",
    "'try', 'while', 'with', 'yield']\n",
    "'''\n",
    "x=13"
   ]
  },
  {
   "cell_type": "code",
   "execution_count": 7,
   "id": "f41f3976-5ec2-487c-b4b6-fdeb34c05aec",
   "metadata": {},
   "outputs": [
    {
     "name": "stdout",
     "output_type": "stream",
     "text": [
      "['False', 'None', 'True', 'and', 'as', 'assert', 'async', 'await', 'break', 'class', 'continue', 'def', 'del', 'elif', 'else', 'except', 'finally', 'for', 'from', 'global', 'if', 'import', 'in', 'is', 'lambda', 'nonlocal', 'not', 'or', 'pass', 'raise', 'return', 'try', 'while', 'with', 'yield']\n"
     ]
    }
   ],
   "source": [
    "import keyword\n",
    "pri\n",
    "\n",
    "nt(keyword.kwlist)"
   ]
  },
  {
   "cell_type": "code",
   "execution_count": 10,
   "id": "1315aebf-c75a-46d1-815b-f39b9b7ef322",
   "metadata": {},
   "outputs": [
    {
     "data": {
      "text/plain": [
       "35"
      ]
     },
     "execution_count": 10,
     "metadata": {},
     "output_type": "execute_result"
    }
   ],
   "source": [
    "len(keyword.kwlist)"
   ]
  },
  {
   "cell_type": "code",
   "execution_count": 1,
   "id": "467af360-fc8f-4822-8d57-4dd610c061a5",
   "metadata": {},
   "outputs": [
    {
     "name": "stdout",
     "output_type": "stream",
     "text": [
      "mayur\n"
     ]
    }
   ],
   "source": [
    "name = 'mayur'\n",
    "print(name)"
   ]
  },
  {
   "cell_type": "code",
   "execution_count": 4,
   "id": "937d6b11-f544-4c46-87c8-cdd6b7678e02",
   "metadata": {},
   "outputs": [
    {
     "name": "stdout",
     "output_type": "stream",
     "text": [
      "0x278ca7eadf0\n"
     ]
    }
   ],
   "source": [
    "print(hex(id(name)))"
   ]
  },
  {
   "cell_type": "code",
   "execution_count": 5,
   "id": "86bd61c1-4ce1-4330-a42a-67b88fd39b66",
   "metadata": {},
   "outputs": [
    {
     "name": "stdout",
     "output_type": "stream",
     "text": [
      "34\n"
     ]
    }
   ],
   "source": [
    "sum = 27 + 7\n",
    "print(sum)"
   ]
  },
  {
   "cell_type": "code",
   "execution_count": 8,
   "id": "ad12e007-c167-4b3c-8a33-767feb726c8c",
   "metadata": {},
   "outputs": [
    {
     "name": "stdout",
     "output_type": "stream",
     "text": [
      "30\n"
     ]
    }
   ],
   "source": [
    "a = 10\n",
    "b = 20\n",
    "c = a+b\n",
    "print(c)"
   ]
  },
  {
   "cell_type": "code",
   "execution_count": 12,
   "id": "029be68d-67ea-4774-9d90-c706846880d2",
   "metadata": {},
   "outputs": [
    {
     "name": "stdin",
     "output_type": "stream",
     "text": [
      "enter any number 27\n",
      "enter any number 7\n"
     ]
    },
    {
     "name": "stdout",
     "output_type": "stream",
     "text": [
      "34\n"
     ]
    }
   ],
   "source": [
    "a = int(input(\"enter any number\"))\n",
    "b = int(input(\"enter any number\"))\n",
    "c = a+b\n",
    "print(c)"
   ]
  },
  {
   "cell_type": "code",
   "execution_count": 30,
   "id": "778838ce-9947-4c22-8a64-7e8354f4a82c",
   "metadata": {},
   "outputs": [
    {
     "name": "stdin",
     "output_type": "stream",
     "text": [
      "enter your first name mayur\n",
      "enter your last name buchkul\n"
     ]
    },
    {
     "name": "stdout",
     "output_type": "stream",
     "text": [
      "mayurbuchkul\n",
      "mayur buchkul\n"
     ]
    }
   ],
   "source": [
    "fname = input(\"enter your first name\")\n",
    "lname = input(\"enter your last name\")\n",
    "fullname = fname + lname\n",
    "print(fullname)\n",
    "print(fname ,lname)"
   ]
  },
  {
   "cell_type": "code",
   "execution_count": 31,
   "id": "0de76525-ef38-4567-b0cc-0c9748e8ca04",
   "metadata": {},
   "outputs": [
    {
     "name": "stdout",
     "output_type": "stream",
     "text": [
      "mayur_buchkul\n"
     ]
    }
   ],
   "source": [
    "print(fname, lname, sep='_')"
   ]
  },
  {
   "cell_type": "code",
   "execution_count": 32,
   "id": "59526684-d840-4e44-8805-929c056ed55b",
   "metadata": {},
   "outputs": [
    {
     "name": "stdout",
     "output_type": "stream",
     "text": [
      "mayur buchkul\n"
     ]
    }
   ],
   "source": [
    "print(fname, end=\" \")\n",
    "print(lname)"
   ]
  },
  {
   "cell_type": "code",
   "execution_count": 36,
   "id": "73ff5093-f283-422f-869b-2b2dedd7322b",
   "metadata": {},
   "outputs": [
    {
     "data": {
      "text/plain": [
       "12"
      ]
     },
     "execution_count": 36,
     "metadata": {},
     "output_type": "execute_result"
    }
   ],
   "source": [
    "len(fullname)"
   ]
  },
  {
   "cell_type": "code",
   "execution_count": 39,
   "id": "1bace8d0-7899-4796-b5eb-648f69449c92",
   "metadata": {
    "jp-MarkdownHeadingCollapsed": true
   },
   "outputs": [
    {
     "name": "stdout",
     "output_type": "stream",
     "text": [
      "10//20//5.7\n"
     ]
    }
   ],
   "source": [
    "a,b,c = \"10\",20,5.7\n",
    "print(a,b,c,sep=\"//\")"
   ]
  },
  {
   "cell_type": "code",
   "execution_count": 40,
   "id": "c9f675b1-ef6d-4217-8d9d-dd8ab5824b49",
   "metadata": {},
   "outputs": [
    {
     "name": "stdout",
     "output_type": "stream",
     "text": [
      "27 27 27 27\n"
     ]
    }
   ],
   "source": [
    "p1=p2=p3=p4=27\n",
    "print(p1,p2,p3,p4)"
   ]
  },
  {
   "cell_type": "code",
   "execution_count": 41,
   "id": "e0e90c8d-b2d7-4979-b2bc-803cdeb27424",
   "metadata": {},
   "outputs": [
    {
     "name": "stdout",
     "output_type": "stream",
     "text": [
      "140726156668152\n"
     ]
    }
   ],
   "source": [
    "print(id(p4))"
   ]
  },
  {
   "cell_type": "code",
   "execution_count": 42,
   "id": "5252e64e-883e-45d1-9955-7f1f5105e7ff",
   "metadata": {},
   "outputs": [
    {
     "name": "stdout",
     "output_type": "stream",
     "text": [
      "mayur buchkul\n"
     ]
    }
   ],
   "source": [
    "print(fname,lname)"
   ]
  },
  {
   "cell_type": "code",
   "execution_count": 43,
   "id": "774d3ba3-d479-46ef-b9d7-f44095872b3f",
   "metadata": {},
   "outputs": [
    {
     "name": "stdout",
     "output_type": "stream",
     "text": [
      "first name: mayur\n",
      "last name: buchkul\n"
     ]
    }
   ],
   "source": [
    "print(\"first name:\",fname)\n",
    "print(\"last name:\",lname)"
   ]
  },
  {
   "cell_type": "code",
   "execution_count": 44,
   "id": "5e1b0285-f1e3-4898-b20b-b7567bd8bdbf",
   "metadata": {},
   "outputs": [
    {
     "name": "stdout",
     "output_type": "stream",
     "text": [
      "first name: mayur last name: buchkul\n"
     ]
    }
   ],
   "source": [
    "print(\"first name: {} last name: {}\".format(fname,lname))\n"
   ]
  },
  {
   "cell_type": "code",
   "execution_count": 46,
   "id": "3ae7c67f-9841-4d7a-bee8-136d2fe73fdd",
   "metadata": {},
   "outputs": [
    {
     "name": "stdout",
     "output_type": "stream",
     "text": [
      "first name: buchkul last name: mayur\n"
     ]
    }
   ],
   "source": [
    "print(\"first name: {1} last name: {0}\".format(fname,lname))"
   ]
  },
  {
   "cell_type": "code",
   "execution_count": 49,
   "id": "4c616eca-3eab-4cbc-834a-b91441a3a482",
   "metadata": {},
   "outputs": [
    {
     "name": "stdout",
     "output_type": "stream",
     "text": [
      "first name: mayur last name: buchkul\n"
     ]
    }
   ],
   "source": [
    "print(f\"first name: {fname} last name: {lname}\")"
   ]
  },
  {
   "cell_type": "code",
   "execution_count": 56,
   "id": "cecb777e-84cc-45ba-8322-ffebcf120d40",
   "metadata": {},
   "outputs": [
    {
     "name": "stdout",
     "output_type": "stream",
     "text": [
      "<class 'int'>\n",
      "<class 'str'>\n",
      "<class 'float'>\n",
      "<class 'bool'>\n",
      "<class 'complex'>\n"
     ]
    }
   ],
   "source": [
    "#data types\n",
    "x = 27\n",
    "name = 'Mayur'\n",
    "a = 7.27\n",
    "b = True\n",
    "c = 27j\n",
    "print(type(x))\n",
    "print(type(name))\n",
    "print(type(a))\n",
    "print(type(b))\n",
    "print(type(c))"
   ]
  },
  {
   "cell_type": "code",
   "execution_count": 60,
   "id": "b2c7f81b-f2fa-491e-8787-be47ab90bce6",
   "metadata": {},
   "outputs": [
    {
     "name": "stdout",
     "output_type": "stream",
     "text": [
      "<class 'list'>\n"
     ]
    }
   ],
   "source": [
    "#sequence type\n",
    "mylist = [1,2,3,4,'Mayur',7.27]\n",
    "print(type(mylist))"
   ]
  },
  {
   "cell_type": "code",
   "execution_count": null,
   "id": "8ddcea32-7fe6-4a7c-9c8e-6f2e6fae7f03",
   "metadata": {},
   "outputs": [],
   "source": []
  }
 ],
 "metadata": {
  "kernelspec": {
   "display_name": "Python 3 (ipykernel)",
   "language": "python",
   "name": "python3"
  },
  "language_info": {
   "codemirror_mode": {
    "name": "ipython",
    "version": 3
   },
   "file_extension": ".py",
   "mimetype": "text/x-python",
   "name": "python",
   "nbconvert_exporter": "python",
   "pygments_lexer": "ipython3",
   "version": "3.12.7"
  }
 },
 "nbformat": 4,
 "nbformat_minor": 5
}
