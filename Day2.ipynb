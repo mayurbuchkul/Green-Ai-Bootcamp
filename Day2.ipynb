{
 "cells": [
  {
   "cell_type": "code",
   "execution_count": 1,
   "id": "bcc72ceb-37c4-4372-9c40-5a8cc4ad68b6",
   "metadata": {},
   "outputs": [
    {
     "name": "stdout",
     "output_type": "stream",
     "text": [
      "6\n"
     ]
    }
   ],
   "source": [
    "#list methods\n",
    "#append()\n",
    "\n",
    "list = [1,2,3,'seven',7.27,True]\n",
    "print(len(list))"
   ]
  },
  {
   "cell_type": "code",
   "execution_count": 3,
   "id": "a7764ee7-f1a3-4220-8378-2caed814513a",
   "metadata": {},
   "outputs": [],
   "source": [
    "list.append(67)"
   ]
  },
  {
   "cell_type": "code",
   "execution_count": 4,
   "id": "d97a441e-1689-4393-8072-2b532ebbcb15",
   "metadata": {},
   "outputs": [
    {
     "name": "stdout",
     "output_type": "stream",
     "text": [
      "[1, 2, 3, 'seven', 7.27, True, 67]\n"
     ]
    }
   ],
   "source": [
    "print(list)"
   ]
  },
  {
   "cell_type": "code",
   "execution_count": 5,
   "id": "ba27f44c-8af6-47ac-8562-619b1ce21702",
   "metadata": {},
   "outputs": [
    {
     "name": "stdout",
     "output_type": "stream",
     "text": [
      "7\n"
     ]
    }
   ],
   "source": [
    "print(len(list))"
   ]
  },
  {
   "cell_type": "code",
   "execution_count": 8,
   "id": "f2c6eb64-9285-478d-b70a-74ceda1f36c0",
   "metadata": {},
   "outputs": [
    {
     "name": "stdout",
     "output_type": "stream",
     "text": [
      "[1, 2, 3, 'seven', 7.27, True, 67, 'mayur']\n"
     ]
    }
   ],
   "source": [
    "list.insert(7,\"mayur\")\n",
    "print(list)"
   ]
  },
  {
   "cell_type": "code",
   "execution_count": 9,
   "id": "0b8cd9ee-8aec-4a3e-97f5-f56797dc7f7c",
   "metadata": {},
   "outputs": [
    {
     "data": {
      "text/plain": [
       "3"
      ]
     },
     "execution_count": 9,
     "metadata": {},
     "output_type": "execute_result"
    }
   ],
   "source": [
    "list.pop(2)"
   ]
  },
  {
   "cell_type": "code",
   "execution_count": 10,
   "id": "3be52c5b-fada-4478-8bfd-192a3bcf547b",
   "metadata": {},
   "outputs": [
    {
     "name": "stdout",
     "output_type": "stream",
     "text": [
      "[1, 2, 'seven', 7.27, True, 67, 'mayur']\n"
     ]
    }
   ],
   "source": [
    "print(list)"
   ]
  },
  {
   "cell_type": "code",
   "execution_count": 11,
   "id": "d85f3b9f-315f-4f1a-9b8a-f03d172d5e7f",
   "metadata": {},
   "outputs": [],
   "source": [
    "list.remove(True)"
   ]
  },
  {
   "cell_type": "code",
   "execution_count": 12,
   "id": "aba410a0-823d-4fb4-b0b1-df7569f70415",
   "metadata": {},
   "outputs": [
    {
     "name": "stdout",
     "output_type": "stream",
     "text": [
      "[2, 'seven', 7.27, True, 67, 'mayur']\n"
     ]
    }
   ],
   "source": [
    "print(list)"
   ]
  },
  {
   "cell_type": "code",
   "execution_count": 13,
   "id": "954be210-a147-4597-af17-a62a4abc132e",
   "metadata": {},
   "outputs": [
    {
     "name": "stdout",
     "output_type": "stream",
     "text": [
      "[2, 'seven', 7.27, True, 67, 'mayur']\n"
     ]
    }
   ],
   "source": [
    "list1 = list.copy()\n",
    "print(list1)"
   ]
  },
  {
   "cell_type": "code",
   "execution_count": 14,
   "id": "b604c2c1-7db0-46ed-9ee6-32c1f922836d",
   "metadata": {},
   "outputs": [],
   "source": [
    "newlist = list + list1"
   ]
  },
  {
   "cell_type": "code",
   "execution_count": 15,
   "id": "20df7d7b-294b-48fc-945e-62c26f6aa506",
   "metadata": {},
   "outputs": [
    {
     "name": "stdout",
     "output_type": "stream",
     "text": [
      "[2, 'seven', 7.27, True, 67, 'mayur', 2, 'seven', 7.27, True, 67, 'mayur']\n"
     ]
    }
   ],
   "source": [
    "print(newlist)"
   ]
  },
  {
   "cell_type": "code",
   "execution_count": 16,
   "id": "da1193d3-58a3-4e44-a7aa-4d694a2670c6",
   "metadata": {},
   "outputs": [],
   "source": [
    "list2 = ['a', 'b']\n",
    "newlist.extend(list)\n"
   ]
  },
  {
   "cell_type": "code",
   "execution_count": 17,
   "id": "3d291788-6115-4565-9050-d1cd046a9556",
   "metadata": {},
   "outputs": [
    {
     "name": "stdout",
     "output_type": "stream",
     "text": [
      "[2, 'seven', 7.27, True, 67, 'mayur']\n"
     ]
    }
   ],
   "source": [
    "print(list)"
   ]
  },
  {
   "cell_type": "code",
   "execution_count": 18,
   "id": "f6d7575c-9780-465e-8479-7f3c365773cc",
   "metadata": {},
   "outputs": [
    {
     "name": "stdout",
     "output_type": "stream",
     "text": [
      "<class 'str'>\n"
     ]
    }
   ],
   "source": [
    "#string\n",
    "\n",
    "str1 = \"Mayur\"\n",
    "print(type(str1))"
   ]
  },
  {
   "cell_type": "code",
   "execution_count": 19,
   "id": "306ff757-a927-4849-b1ac-f783f803f9af",
   "metadata": {},
   "outputs": [
    {
     "name": "stdout",
     "output_type": "stream",
     "text": [
      "Mayur i am an engineering student\n"
     ]
    }
   ],
   "source": [
    "str2 = \" i am an engineering student\"\n",
    "str3 = str1 + str2\n",
    "print(str3)"
   ]
  },
  {
   "cell_type": "code",
   "execution_count": 20,
   "id": "6b8cc3b7-4325-4fe9-ac7a-c4f2b6aafeb8",
   "metadata": {},
   "outputs": [
    {
     "name": "stdout",
     "output_type": "stream",
     "text": [
      "mayur i am an engineering student\n"
     ]
    }
   ],
   "source": [
    "print(str3.lower())"
   ]
  },
  {
   "cell_type": "code",
   "execution_count": 22,
   "id": "faa3c2f9-9ec4-4c30-8d02-d82ddc54df07",
   "metadata": {},
   "outputs": [
    {
     "name": "stdout",
     "output_type": "stream",
     "text": [
      "MAYUR I AM AN ENGINEERING STUDENT\n",
      "Mayur I Am An Engineering Student\n",
      "Mayur i am an engineering student\n"
     ]
    }
   ],
   "source": [
    "print(str3.upper())\n",
    "print(str3.title())\n",
    "print(str3.capitalize())"
   ]
  },
  {
   "cell_type": "code",
   "execution_count": 23,
   "id": "c6801e89-bc8a-4d98-a468-392ab158a994",
   "metadata": {},
   "outputs": [
    {
     "name": "stdout",
     "output_type": "stream",
     "text": [
      "Mayurya\n"
     ]
    }
   ],
   "source": [
    "name = \"Mayur\"\n",
    "print(name.replace(\"r\",\"rya\"))"
   ]
  },
  {
   "cell_type": "code",
   "execution_count": 24,
   "id": "2cd6d481-32da-4fa7-8125-5e1f1266ad2f",
   "metadata": {},
   "outputs": [
    {
     "name": "stdout",
     "output_type": "stream",
     "text": [
      "2\n"
     ]
    }
   ],
   "source": [
    "lst = \"one two three seven twenty seven one four three two\"\n",
    "print(lst.count(\"seven\"))"
   ]
  },
  {
   "cell_type": "code",
   "execution_count": 25,
   "id": "df12f602-ee26-4a14-8dc4-70b4411351a7",
   "metadata": {},
   "outputs": [
    {
     "name": "stdout",
     "output_type": "stream",
     "text": [
      "False\n",
      "True\n",
      "False\n",
      "False\n"
     ]
    }
   ],
   "source": [
    "print(name.startswith(\"m\"))\n",
    "print(name.startswith(\"M\"))\n",
    "\n",
    "print(name.endswith(\"a\"))\n",
    "print(name.endswith(\"A\"))\n",
    "\n"
   ]
  },
  {
   "cell_type": "code",
   "execution_count": 35,
   "id": "3dacb9ea-4dde-4a8e-ab19-2a35d76536b7",
   "metadata": {},
   "outputs": [
    {
     "data": {
      "text/plain": [
       "['ICEEM', 'is', 'an', 'engineering', 'college']"
      ]
     },
     "execution_count": 35,
     "metadata": {},
     "output_type": "execute_result"
    }
   ],
   "source": [
    "stm = \"ICEEM is an engineering college\"\n",
    "stm.split()"
   ]
  },
  {
   "cell_type": "code",
   "execution_count": 36,
   "id": "6764ed93-63ff-4221-938e-0e36bf4b44e4",
   "metadata": {},
   "outputs": [
    {
     "name": "stdout",
     "output_type": "stream",
     "text": [
      "['ICEEM is an engineering college']\n"
     ]
    }
   ],
   "source": [
    "print(stm.split(\"&\"))"
   ]
  },
  {
   "cell_type": "code",
   "execution_count": 37,
   "id": "953bbeba-b440-49e2-ba35-afdb1cadc228",
   "metadata": {},
   "outputs": [
    {
     "name": "stdout",
     "output_type": "stream",
     "text": [
      "M\n",
      "E\n",
      "C\n"
     ]
    }
   ],
   "source": [
    "#indexing\n",
    "\n",
    "txt = \"ICEEM\"\n",
    "print(txt[4])\n",
    "print(txt[3])\n",
    "print(txt[-4])"
   ]
  },
  {
   "cell_type": "code",
   "execution_count": 41,
   "id": "2a367dd8-8ffa-40b7-8458-3d245c8e8cd6",
   "metadata": {},
   "outputs": [
    {
     "data": {
      "text/plain": [
       "'egneigclee'"
      ]
     },
     "execution_count": 41,
     "metadata": {},
     "output_type": "execute_result"
    }
   ],
   "source": [
    "stm[12:31:2]"
   ]
  },
  {
   "cell_type": "code",
   "execution_count": 49,
   "id": "838bd419-1369-4687-b97d-5d87be73794d",
   "metadata": {},
   "outputs": [
    {
     "data": {
      "text/plain": [
       "'egelloc gnireenigne na si MEECI'"
      ]
     },
     "execution_count": 49,
     "metadata": {},
     "output_type": "execute_result"
    }
   ],
   "source": [
    "stm[-1:-32:-1]"
   ]
  },
  {
   "cell_type": "code",
   "execution_count": 53,
   "id": "9097ad29-6da7-4b77-9c8f-2a3f0ba20067",
   "metadata": {},
   "outputs": [
    {
     "name": "stdout",
     "output_type": "stream",
     "text": [
      "Palindrome\n"
     ]
    }
   ],
   "source": [
    "st1 = \"ICEECI\"\n",
    "\n",
    "if st1 == st1[::-1]:\n",
    "    print(\"Palindrome\")\n",
    "else:\n",
    "    print(\"not Palindrome\")"
   ]
  },
  {
   "cell_type": "code",
   "execution_count": 64,
   "id": "ceefb1d6-7171-447e-a039-f774b08c925c",
   "metadata": {},
   "outputs": [
    {
     "name": "stdout",
     "output_type": "stream",
     "text": [
      "{'std1': {'rollno': 1, 'name': 'Narayan', 'percentage': 90}, 'std2': {'rollno': 2, 'name': 'Rohit', 'percentage': 92}, 'std3': {'rollno': 3, 'name': 'Mayur', 'percentage': 60}}\n"
     ]
    }
   ],
   "source": [
    "# dictionary\n",
    "\n",
    "records = {\n",
    "    \"std1\" : {\"rollno\" : 1,\"name\" : \"Narayan\",\"percentage\" : 90},\n",
    "    \"std2\" : {\"rollno\" : 2,\"name\" : \"Rohit\",\"percentage\" : 92},\n",
    "    \"std3\" : {\"rollno\" : 3,\"name\" : \"Mayur\",\"percentage\" : 60}\n",
    "}\n",
    "print(records)"
   ]
  },
  {
   "cell_type": "code",
   "execution_count": 65,
   "id": "abe013b6-a49b-4f75-be51-53de1efe16f1",
   "metadata": {},
   "outputs": [
    {
     "data": {
      "text/plain": [
       "dict_keys(['std1', 'std2', 'std3'])"
      ]
     },
     "execution_count": 65,
     "metadata": {},
     "output_type": "execute_result"
    }
   ],
   "source": [
    "records.keys()"
   ]
  },
  {
   "cell_type": "code",
   "execution_count": 66,
   "id": "61dd43ab-6dbb-408c-bb94-7317162979d4",
   "metadata": {},
   "outputs": [
    {
     "data": {
      "text/plain": [
       "dict_values([{'rollno': 1, 'name': 'Narayan', 'percentage': 90}, {'rollno': 2, 'name': 'Rohit', 'percentage': 92}, {'rollno': 3, 'name': 'Mayur', 'percentage': 60}])"
      ]
     },
     "execution_count": 66,
     "metadata": {},
     "output_type": "execute_result"
    }
   ],
   "source": [
    "records.values()"
   ]
  },
  {
   "cell_type": "code",
   "execution_count": 67,
   "id": "d9cc4a09-0a98-4e11-9102-52b180acb019",
   "metadata": {},
   "outputs": [
    {
     "data": {
      "text/plain": [
       "dict_items([('std1', {'rollno': 1, 'name': 'Narayan', 'percentage': 90}), ('std2', {'rollno': 2, 'name': 'Rohit', 'percentage': 92}), ('std3', {'rollno': 3, 'name': 'Mayur', 'percentage': 60})])"
      ]
     },
     "execution_count": 67,
     "metadata": {},
     "output_type": "execute_result"
    }
   ],
   "source": [
    "records.items()"
   ]
  },
  {
   "cell_type": "code",
   "execution_count": 10,
   "id": "6bcc8f74-6c40-4091-affb-020c2322c75b",
   "metadata": {},
   "outputs": [
    {
     "data": {
      "text/plain": [
       "{1, 2, 3, 4, 5}"
      ]
     },
     "execution_count": 10,
     "metadata": {},
     "output_type": "execute_result"
    }
   ],
   "source": [
    "#set\n",
    "\n",
    "myset = {1,2,3,4,5,1,4,5}\n",
    "myset"
   ]
  },
  {
   "cell_type": "code",
   "execution_count": 11,
   "id": "60986a24-9e91-4b41-acd9-421a92c5ec12",
   "metadata": {},
   "outputs": [],
   "source": [
    "myset.add(6)"
   ]
  },
  {
   "cell_type": "code",
   "execution_count": 12,
   "id": "b842087a-6059-4026-9762-8c2870317d0c",
   "metadata": {},
   "outputs": [],
   "source": [
    "myset.update([7,8,9])"
   ]
  },
  {
   "cell_type": "code",
   "execution_count": 13,
   "id": "72ce2d51-68b9-4f21-ace8-950b0a46d274",
   "metadata": {},
   "outputs": [
    {
     "data": {
      "text/plain": [
       "{1, 2, 3, 4, 5, 6, 7, 8, 9}"
      ]
     },
     "execution_count": 13,
     "metadata": {},
     "output_type": "execute_result"
    }
   ],
   "source": [
    "myset"
   ]
  },
  {
   "cell_type": "code",
   "execution_count": 14,
   "id": "70984f4b-7ff3-4261-af89-ca96348bbd75",
   "metadata": {},
   "outputs": [],
   "source": [
    "myset.remove(1)\n",
    "#remove shows error if the element is not present in set"
   ]
  },
  {
   "cell_type": "code",
   "execution_count": 15,
   "id": "a7a7c510-b21e-4596-906d-855dd197c5ed",
   "metadata": {},
   "outputs": [
    {
     "name": "stdout",
     "output_type": "stream",
     "text": [
      "None\n",
      "{2, 3, 4, 5, 6, 7, 9}\n"
     ]
    }
   ],
   "source": [
    "print(myset.remove(8))\n",
    "print(myset)"
   ]
  },
  {
   "cell_type": "code",
   "execution_count": 80,
   "id": "9d5ecc97-5790-484d-9e8b-40c2aa09bd7c",
   "metadata": {},
   "outputs": [],
   "source": [
    "myset.discard(9)\n",
    "#discard doesn't shows error if the element is not present in set"
   ]
  },
  {
   "cell_type": "code",
   "execution_count": 81,
   "id": "d68482c7-ccc3-41d7-838d-8b27291d9778",
   "metadata": {},
   "outputs": [
    {
     "name": "stdin",
     "output_type": "stream",
     "text": [
      "enter any number: 7\n"
     ]
    },
    {
     "name": "stdout",
     "output_type": "stream",
     "text": [
      "x is an odd number\n"
     ]
    }
   ],
   "source": [
    "#conditional statements  \n",
    "x = int(input(\"enter any number:\"))\n",
    "if x%2==0:\n",
    "    print(\"x is an even number\")\n",
    "elif x%2==1:\n",
    "    print(\"x is an odd number\")\n",
    "else:\n",
    "    print(\"x is zero\")"
   ]
  },
  {
   "cell_type": "code",
   "execution_count": 82,
   "id": "fb6c8128-fdda-4361-a781-1d399bc657c5",
   "metadata": {},
   "outputs": [
    {
     "name": "stdin",
     "output_type": "stream",
     "text": [
      "enter marks: 85\n"
     ]
    },
    {
     "name": "stdout",
     "output_type": "stream",
     "text": [
      "A\n"
     ]
    }
   ],
   "source": [
    "num = eval(input(\"enter marks:\"))\n",
    "if num>=90:\n",
    "    print(\"A+\")\n",
    "elif num>=80:\n",
    "    print(\"A\")\n",
    "elif num>=70:\n",
    "    print(\"B+\")\n",
    "elif num>=60:\n",
    "    print(\"B\")\n",
    "elif num>=50:\n",
    "    print(\"C+\")\n",
    "elif num>=40:\n",
    "    print(\"C\")\n",
    "else:\n",
    "    print(\"Fail\")"
   ]
  },
  {
   "cell_type": "code",
   "execution_count": 87,
   "id": "deb072f1-891e-4f1b-86e5-b4df3329f0e8",
   "metadata": {},
   "outputs": [
    {
     "name": "stdin",
     "output_type": "stream",
     "text": [
      "enter username: MAYUR\n",
      "enter pin: 1234\n"
     ]
    },
    {
     "name": "stdout",
     "output_type": "stream",
     "text": [
      "welcome mayur\n"
     ]
    }
   ],
   "source": [
    "#ATM program using if else\n",
    "\n",
    "uname = input(\"enter username:\")\n",
    "\n",
    "if uname.lower() == \"mayur\": \n",
    "    upin = int(input(\"enter pin:\"))\n",
    "    if upin == 1234:\n",
    "        print(\"welcome mayur\")\n",
    "else:\n",
    "    print(\"invalid user\")\n",
    "            "
   ]
  },
  {
   "cell_type": "code",
   "execution_count": 2,
   "id": "ca633b8c-93b0-4aac-b64d-b4630d5cb729",
   "metadata": {},
   "outputs": [
    {
     "name": "stdout",
     "output_type": "stream",
     "text": [
      "1 Thank you\n",
      "2 Thank you\n",
      "3 Thank you\n"
     ]
    }
   ],
   "source": [
    "#LOOP\n",
    "\n",
    "#1 For loop\n",
    "for i in range(1,4):\n",
    "    print(f\"{i} Thank you\")"
   ]
  },
  {
   "cell_type": "code",
   "execution_count": 7,
   "id": "444abf29-ab40-4ba3-bcd6-7e49fb2ed120",
   "metadata": {},
   "outputs": [
    {
     "name": "stdout",
     "output_type": "stream",
     "text": [
      "1\n",
      "2\n",
      "3\n",
      "4\n",
      "5\n",
      "6\n",
      "7\n",
      "8\n",
      "9\n",
      "10\n",
      "11\n",
      "12\n",
      "13\n",
      "14\n",
      "15\n",
      "16\n",
      "17\n",
      "18\n",
      "19\n",
      "20\n"
     ]
    }
   ],
   "source": [
    "for i in range(1,21):\n",
    "    print(i)"
   ]
  },
  {
   "cell_type": "code",
   "execution_count": 10,
   "id": "b148d3dd-59b3-4c17-87ef-5e4d2649f16e",
   "metadata": {},
   "outputs": [
    {
     "name": "stdout",
     "output_type": "stream",
     "text": [
      "2\n",
      "4\n",
      "6\n",
      "8\n",
      "10\n",
      "12\n",
      "14\n",
      "16\n",
      "18\n",
      "20\n"
     ]
    }
   ],
   "source": [
    "for i in range(2,21,2):\n",
    "    print(i)"
   ]
  },
  {
   "cell_type": "code",
   "execution_count": 13,
   "id": "262a8930-5b53-4d06-a87f-4c1a09de7b0c",
   "metadata": {},
   "outputs": [
    {
     "name": "stdout",
     "output_type": "stream",
     "text": [
      "1\n",
      "4\n",
      "9\n",
      "16\n",
      "25\n"
     ]
    }
   ],
   "source": [
    "list = [1,2,3,4,5]\n",
    "for i in list:\n",
    "    print(i**2)"
   ]
  },
  {
   "cell_type": "code",
   "execution_count": 26,
   "id": "01ff22ea-c43b-4f90-880c-48417501d95a",
   "metadata": {},
   "outputs": [
    {
     "name": "stdout",
     "output_type": "stream",
     "text": [
      "Evenlist =  [2, 4, 6, 8, 10, 12, 14, 16, 18, 20, 22, 24, 26, 28, 30, 32, 34, 36, 38, 40, 42, 44, 46, 48, 50, 52, 54, 56, 58, 60, 62, 64, 66, 68, 70, 72, 74, 76, 78, 80, 82, 84, 86, 88, 90, 92, 94, 96, 98, 100]\n",
      "Oddlist =  [1, 3, 5, 7, 9, 11, 13, 15, 17, 19, 21, 23, 25, 27, 29, 31, 33, 35, 37, 39, 41, 43, 45, 47, 49, 51, 53, 55, 57, 59, 61, 63, 65, 67, 69, 71, 73, 75, 77, 79, 81, 83, 85, 87, 89, 91, 93, 95, 97, 99]\n"
     ]
    }
   ],
   "source": [
    "evenlist =[]\n",
    "oddlist =[]\n",
    "for i in range(1,101):\n",
    "    if i%2==0:\n",
    "        evenlist.append(i)\n",
    "     \n",
    "    else:\n",
    "        oddlist.append(i)\n",
    "\n",
    "print(\"Evenlist = \",evenlist)\n",
    "print(\"Oddlist = \",oddlist)\n"
   ]
  },
  {
   "cell_type": "code",
   "execution_count": 44,
   "id": "acd41eb5-e9b5-4b56-869c-72cdc46e2e0c",
   "metadata": {},
   "outputs": [
    {
     "name": "stdout",
     "output_type": "stream",
     "text": [
      "1 X 1 = 1\n",
      "1 X 2 = 2\n",
      "1 X 3 = 3\n",
      "1 X 4 = 4\n",
      "1 X 5 = 5\n",
      "1 X 6 = 6\n",
      "1 X 7 = 7\n",
      "1 X 8 = 8\n",
      "1 X 9 = 9\n",
      "1 X 10 = 10\n",
      "\n",
      "2 X 1 = 2\n",
      "2 X 2 = 4\n",
      "2 X 3 = 6\n",
      "2 X 4 = 8\n",
      "2 X 5 = 10\n",
      "2 X 6 = 12\n",
      "2 X 7 = 14\n",
      "2 X 8 = 16\n",
      "2 X 9 = 18\n",
      "2 X 10 = 20\n",
      "\n",
      "3 X 1 = 3\n",
      "3 X 2 = 6\n",
      "3 X 3 = 9\n",
      "3 X 4 = 12\n",
      "3 X 5 = 15\n",
      "3 X 6 = 18\n",
      "3 X 7 = 21\n",
      "3 X 8 = 24\n",
      "3 X 9 = 27\n",
      "3 X 10 = 30\n",
      "\n",
      "4 X 1 = 4\n",
      "4 X 2 = 8\n",
      "4 X 3 = 12\n",
      "4 X 4 = 16\n",
      "4 X 5 = 20\n",
      "4 X 6 = 24\n",
      "4 X 7 = 28\n",
      "4 X 8 = 32\n",
      "4 X 9 = 36\n",
      "4 X 10 = 40\n",
      "\n",
      "5 X 1 = 5\n",
      "5 X 2 = 10\n",
      "5 X 3 = 15\n",
      "5 X 4 = 20\n",
      "5 X 5 = 25\n",
      "5 X 6 = 30\n",
      "5 X 7 = 35\n",
      "5 X 8 = 40\n",
      "5 X 9 = 45\n",
      "5 X 10 = 50\n",
      "\n",
      "6 X 1 = 6\n",
      "6 X 2 = 12\n",
      "6 X 3 = 18\n",
      "6 X 4 = 24\n",
      "6 X 5 = 30\n",
      "6 X 6 = 36\n",
      "6 X 7 = 42\n",
      "6 X 8 = 48\n",
      "6 X 9 = 54\n",
      "6 X 10 = 60\n",
      "\n",
      "7 X 1 = 7\n",
      "7 X 2 = 14\n",
      "7 X 3 = 21\n",
      "7 X 4 = 28\n",
      "7 X 5 = 35\n",
      "7 X 6 = 42\n",
      "7 X 7 = 49\n",
      "7 X 8 = 56\n",
      "7 X 9 = 63\n",
      "7 X 10 = 70\n",
      "\n",
      "8 X 1 = 8\n",
      "8 X 2 = 16\n",
      "8 X 3 = 24\n",
      "8 X 4 = 32\n",
      "8 X 5 = 40\n",
      "8 X 6 = 48\n",
      "8 X 7 = 56\n",
      "8 X 8 = 64\n",
      "8 X 9 = 72\n",
      "8 X 10 = 80\n",
      "\n",
      "9 X 1 = 9\n",
      "9 X 2 = 18\n",
      "9 X 3 = 27\n",
      "9 X 4 = 36\n",
      "9 X 5 = 45\n",
      "9 X 6 = 54\n",
      "9 X 7 = 63\n",
      "9 X 8 = 72\n",
      "9 X 9 = 81\n",
      "9 X 10 = 90\n",
      "\n",
      "10 X 1 = 10\n",
      "10 X 2 = 20\n",
      "10 X 3 = 30\n",
      "10 X 4 = 40\n",
      "10 X 5 = 50\n",
      "10 X 6 = 60\n",
      "10 X 7 = 70\n",
      "10 X 8 = 80\n",
      "10 X 9 = 90\n",
      "10 X 10 = 100\n",
      "\n"
     ]
    }
   ],
   "source": [
    "#tables\n",
    "for i in range(1,11):\n",
    "    for j in range(1,11):\n",
    "        print(i,\"X\",j,\"=\",i*j)\n",
    "    print()"
   ]
  },
  {
   "cell_type": "code",
   "execution_count": 52,
   "id": "144bbe2e-05b9-4f0c-9efa-328d1f24e88b",
   "metadata": {},
   "outputs": [
    {
     "name": "stdout",
     "output_type": "stream",
     "text": [
      "1 X 1 = 1\t2 X 1 = 2\t3 X 1 = 3\t4 X 1 = 4\t5 X 1 = 5\t6 X 1 = 6\t7 X 1 = 7\t8 X 1 = 8\t9 X 1 = 9\t10 X 1 = 10\t\n",
      "1 X 2 = 2\t2 X 2 = 4\t3 X 2 = 6\t4 X 2 = 8\t5 X 2 = 10\t6 X 2 = 12\t7 X 2 = 14\t8 X 2 = 16\t9 X 2 = 18\t10 X 2 = 20\t\n",
      "1 X 3 = 3\t2 X 3 = 6\t3 X 3 = 9\t4 X 3 = 12\t5 X 3 = 15\t6 X 3 = 18\t7 X 3 = 21\t8 X 3 = 24\t9 X 3 = 27\t10 X 3 = 30\t\n",
      "1 X 4 = 4\t2 X 4 = 8\t3 X 4 = 12\t4 X 4 = 16\t5 X 4 = 20\t6 X 4 = 24\t7 X 4 = 28\t8 X 4 = 32\t9 X 4 = 36\t10 X 4 = 40\t\n",
      "1 X 5 = 5\t2 X 5 = 10\t3 X 5 = 15\t4 X 5 = 20\t5 X 5 = 25\t6 X 5 = 30\t7 X 5 = 35\t8 X 5 = 40\t9 X 5 = 45\t10 X 5 = 50\t\n",
      "1 X 6 = 6\t2 X 6 = 12\t3 X 6 = 18\t4 X 6 = 24\t5 X 6 = 30\t6 X 6 = 36\t7 X 6 = 42\t8 X 6 = 48\t9 X 6 = 54\t10 X 6 = 60\t\n",
      "1 X 7 = 7\t2 X 7 = 14\t3 X 7 = 21\t4 X 7 = 28\t5 X 7 = 35\t6 X 7 = 42\t7 X 7 = 49\t8 X 7 = 56\t9 X 7 = 63\t10 X 7 = 70\t\n",
      "1 X 8 = 8\t2 X 8 = 16\t3 X 8 = 24\t4 X 8 = 32\t5 X 8 = 40\t6 X 8 = 48\t7 X 8 = 56\t8 X 8 = 64\t9 X 8 = 72\t10 X 8 = 80\t\n",
      "1 X 9 = 9\t2 X 9 = 18\t3 X 9 = 27\t4 X 9 = 36\t5 X 9 = 45\t6 X 9 = 54\t7 X 9 = 63\t8 X 9 = 72\t9 X 9 = 81\t10 X 9 = 90\t\n",
      "1 X 10 = 10\t2 X 10 = 20\t3 X 10 = 30\t4 X 10 = 40\t5 X 10 = 50\t6 X 10 = 60\t7 X 10 = 70\t8 X 10 = 80\t9 X 10 = 90\t10 X 10 = 100\t\n"
     ]
    }
   ],
   "source": [
    "for i in range(1,11):\n",
    "    for j in range(1,11):\n",
    "        print(j,\"X\",i,\"=\",j*i,end='\\t')\n",
    "    print()"
   ]
  },
  {
   "cell_type": "code",
   "execution_count": 3,
   "id": "453cbdda-2aa4-4acc-9fb4-f6b5eaeda67f",
   "metadata": {},
   "outputs": [
    {
     "name": "stdin",
     "output_type": "stream",
     "text": [
      "enter number of rows: 7\n"
     ]
    },
    {
     "name": "stdout",
     "output_type": "stream",
     "text": [
      "\n",
      "*\n",
      "**\n",
      "***\n",
      "****\n",
      "*****\n",
      "******\n",
      "*******\n"
     ]
    }
   ],
   "source": [
    "#star pattern\n",
    "rows = int(input(\"enter number of rows:\"))\n",
    "for i in range (rows+1):\n",
    "    for j in range(1,i+1):\n",
    "        print(\"*\",end=\"\")\n",
    "    print()"
   ]
  },
  {
   "cell_type": "code",
   "execution_count": null,
   "id": "1cbeb941-60b3-428e-b934-706458221c8f",
   "metadata": {},
   "outputs": [],
   "source": [
    "#while loop \n",
    "\n"
   ]
  },
  {
   "cell_type": "code",
   "execution_count": 17,
   "id": "d74bc730-b37c-4f68-b95a-fb6091c877be",
   "metadata": {},
   "outputs": [
    {
     "name": "stdin",
     "output_type": "stream",
     "text": [
      "Guess the number 55\n"
     ]
    },
    {
     "name": "stdout",
     "output_type": "stream",
     "text": [
      "low\n"
     ]
    },
    {
     "name": "stdin",
     "output_type": "stream",
     "text": [
      "Guess the number 90\n"
     ]
    },
    {
     "name": "stdout",
     "output_type": "stream",
     "text": [
      "high\n"
     ]
    },
    {
     "name": "stdin",
     "output_type": "stream",
     "text": [
      "Guess the number 80\n"
     ]
    },
    {
     "name": "stdout",
     "output_type": "stream",
     "text": [
      "low\n"
     ]
    },
    {
     "name": "stdin",
     "output_type": "stream",
     "text": [
      "Guess the number 83\n"
     ]
    },
    {
     "name": "stdout",
     "output_type": "stream",
     "text": [
      "you guessed the number in 4 attempts\n"
     ]
    }
   ],
   "source": [
    "#game\n",
    "\n",
    "import random\n",
    "secret_num = random.randint(1,100)\n",
    "guess = None\n",
    "attempts = 0\n",
    "while guess != secret_num:\n",
    "    guess = int(input(\"Guess the number\"))\n",
    "    attempts +=1\n",
    "\n",
    "    if guess < secret_num:\n",
    "        print(\"low\")\n",
    "    elif guess > secret_num:\n",
    "        print(\"high\")\n",
    "    else:\n",
    "        print(\"you guessed the number in\",attempts,\"attempts\")\n",
    "    "
   ]
  },
  {
   "cell_type": "code",
   "execution_count": 19,
   "id": "675b9470-76b4-44e9-bebf-43de6667babf",
   "metadata": {},
   "outputs": [
    {
     "name": "stdout",
     "output_type": "stream",
     "text": [
      "34\n"
     ]
    }
   ],
   "source": [
    "#functions\n",
    "\n",
    "#user defined\n",
    "def add():\n",
    "    print(7+27)\n",
    "add()"
   ]
  },
  {
   "cell_type": "code",
   "execution_count": 37,
   "id": "676cf296-4414-4e5f-8466-386e4378d5cc",
   "metadata": {},
   "outputs": [
    {
     "name": "stdin",
     "output_type": "stream",
     "text": [
      "enter first number: 45\n",
      "enter second number: 3\n"
     ]
    },
    {
     "name": "stdout",
     "output_type": "stream",
     "text": [
      "42\n",
      "None\n",
      "15.0\n",
      "None\n"
     ]
    }
   ],
   "source": [
    "a=int(input(\"enter first number:\"))\n",
    "b=int(input(\"enter second number:\"))\n",
    "\n",
    "def divide():\n",
    "    print(a/b)\n",
    "def sub():\n",
    "    print(a-b)\n",
    "print(sub())\n",
    "print(divide())        "
   ]
  },
  {
   "cell_type": "code",
   "execution_count": 40,
   "id": "8bfedf37-36a8-4502-8b50-fc8591559b78",
   "metadata": {},
   "outputs": [
    {
     "name": "stdin",
     "output_type": "stream",
     "text": [
      "enter your name: Mayur\n"
     ]
    },
    {
     "name": "stdout",
     "output_type": "stream",
     "text": [
      "My name is Mayur\n"
     ]
    }
   ],
   "source": [
    "name = input(\"enter your name:\")\n",
    "def call_name(name):\n",
    "    print(\"My name is\",name)\n",
    "call_name(name)\n"
   ]
  },
  {
   "cell_type": "code",
   "execution_count": 42,
   "id": "d4b4fc17-6187-4b4f-8ecb-60ce9fe58007",
   "metadata": {},
   "outputs": [
    {
     "name": "stdout",
     "output_type": "stream",
     "text": [
      "1\n",
      "2\n",
      "3\n"
     ]
    }
   ],
   "source": [
    "# functions with Arbitary arguments\n",
    "\n",
    "def num(*args):\n",
    "    for i in args:\n",
    "        print(i)\n",
    "num(1,2,3)"
   ]
  },
  {
   "cell_type": "code",
   "execution_count": null,
   "id": "b11bbbaf-7fc9-4337-b628-5caa93cca837",
   "metadata": {},
   "outputs": [],
   "source": [
    "def num(*args):\n",
    "    for i in args:\n",
    "        print(i)\n",
    "num(1,2,3)"
   ]
  },
  {
   "cell_type": "code",
   "execution_count": 56,
   "id": "027bb20e-f00c-41b4-ae83-0ac5af6e9461",
   "metadata": {},
   "outputs": [
    {
     "data": {
      "text/plain": [
       "([2, 4, 6, 8, 10], [1, 3, 5, 7, 9])"
      ]
     },
     "execution_count": 56,
     "metadata": {},
     "output_type": "execute_result"
    }
   ],
   "source": [
    "\n",
    "def num(*args):\n",
    "    Evenlt = []\n",
    "    Oddlt = []\n",
    "    for i in args:\n",
    "        if i%2==0:\n",
    "            Evenlt.append(i)\n",
    "        else:\n",
    "            Oddlt.append(i)\n",
    "    return Evenlt,Oddlt\n",
    "    \n",
    "num(1,2,3,4,5,6,7,8,9,10)\n"
   ]
  },
  {
   "cell_type": "code",
   "execution_count": 62,
   "id": "80d36a99-5955-4700-a1dc-f5c415362113",
   "metadata": {},
   "outputs": [
    {
     "name": "stdout",
     "output_type": "stream",
     "text": [
      "welcome\n"
     ]
    }
   ],
   "source": [
    "#login form\n",
    "\n",
    "def login(name,password):\n",
    "    if name.lower() == \"mayur\" and password == 1234:\n",
    "        print(\"welcome\")\n",
    "    else:\n",
    "        print(\"invalid user\")\n",
    "\n",
    "login(\"Mayur\",1234)"
   ]
  },
  {
   "cell_type": "code",
   "execution_count": 63,
   "id": "29bc3a6c-ffce-4dc6-98bb-60364e810d6a",
   "metadata": {},
   "outputs": [
    {
     "name": "stdout",
     "output_type": "stream",
     "text": [
      "20\n"
     ]
    }
   ],
   "source": [
    "#lambda - small anonymous nameless function\n",
    "\n",
    "x = lambda a : a + 10\n",
    "print(x(10))"
   ]
  },
  {
   "cell_type": "code",
   "execution_count": null,
   "id": "8e36c2a9-2a99-4c25-a984-adcbf470100f",
   "metadata": {},
   "outputs": [],
   "source": []
  }
 ],
 "metadata": {
  "kernelspec": {
   "display_name": "Python 3 (ipykernel)",
   "language": "python",
   "name": "python3"
  },
  "language_info": {
   "codemirror_mode": {
    "name": "ipython",
    "version": 3
   },
   "file_extension": ".py",
   "mimetype": "text/x-python",
   "name": "python",
   "nbconvert_exporter": "python",
   "pygments_lexer": "ipython3",
   "version": "3.12.7"
  }
 },
 "nbformat": 4,
 "nbformat_minor": 5
}
