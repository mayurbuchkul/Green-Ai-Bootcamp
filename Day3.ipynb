{
 "cells": [
  {
   "cell_type": "code",
   "execution_count": 3,
   "id": "9f6b1a73-6325-4515-9328-6fade25cadae",
   "metadata": {},
   "outputs": [
    {
     "data": {
      "text/plain": [
       "<__main__.CS at 0x20a8aebd310>"
      ]
     },
     "execution_count": 3,
     "metadata": {},
     "output_type": "execute_result"
    }
   ],
   "source": [
    "#OOP\n",
    "\n",
    "class CS:\n",
    "    pass #used to keep empty class\n",
    "\n",
    "\n",
    "student1 = CS()\n",
    "student1"
   ]
  },
  {
   "cell_type": "code",
   "execution_count": 21,
   "id": "b96f2e14-97b1-4458-b358-6392559c9fb7",
   "metadata": {},
   "outputs": [
    {
     "name": "stdout",
     "output_type": "stream",
     "text": [
      "my name is Mayur and i am coding\n"
     ]
    }
   ],
   "source": [
    "class CS:\n",
    "    def __init__(self, name, age):\n",
    "        self.name = name\n",
    "        self.age =  age\n",
    "    def coding(self):\n",
    "        print(\"my name is\",self.name,\"and i am coding\")\n",
    "std1 = CS(\"Mayur\",21)\n",
    "std2 = CS(\"krushna\",21)\n",
    "std3 = CS(\"Shri\",20)    \n",
    "std1.coding()"
   ]
  },
  {
   "cell_type": "code",
   "execution_count": 12,
   "id": "276ae3e2-8b22-4df8-8068-6a5804985bcf",
   "metadata": {},
   "outputs": [
    {
     "data": {
      "text/plain": [
       "'Mayur'"
      ]
     },
     "execution_count": 12,
     "metadata": {},
     "output_type": "execute_result"
    }
   ],
   "source": [
    "std1.name"
   ]
  },
  {
   "cell_type": "code",
   "execution_count": 13,
   "id": "7907fffd-6aea-4f59-ac62-c08111c18853",
   "metadata": {},
   "outputs": [
    {
     "data": {
      "text/plain": [
       "21"
      ]
     },
     "execution_count": 13,
     "metadata": {},
     "output_type": "execute_result"
    }
   ],
   "source": [
    "std1.age"
   ]
  },
  {
   "cell_type": "code",
   "execution_count": 14,
   "id": "111e3abc-cb5b-4c8b-8b66-499ecafc6386",
   "metadata": {},
   "outputs": [
    {
     "name": "stdout",
     "output_type": "stream",
     "text": [
      "Mayur 21\n",
      "krushna 21\n"
     ]
    }
   ],
   "source": [
    "print(std1.name,std1.age)\n",
    "print(std2.name,std2.age)"
   ]
  },
  {
   "cell_type": "code",
   "execution_count": 15,
   "id": "c8829d4b-892b-41b4-9452-6a00afb6f78d",
   "metadata": {},
   "outputs": [],
   "source": [
    "std4 = CS(\"rohit\",21)"
   ]
  },
  {
   "cell_type": "code",
   "execution_count": 16,
   "id": "443b7245-6d2a-4708-b76d-b20c4722d73f",
   "metadata": {},
   "outputs": [
    {
     "data": {
      "text/plain": [
       "'Shri'"
      ]
     },
     "execution_count": 16,
     "metadata": {},
     "output_type": "execute_result"
    }
   ],
   "source": [
    "std3.name"
   ]
  },
  {
   "cell_type": "code",
   "execution_count": 17,
   "id": "2f2cb6fb-9baf-4336-81c8-976628c4526c",
   "metadata": {},
   "outputs": [
    {
     "data": {
      "text/plain": [
       "'rohit'"
      ]
     },
     "execution_count": 17,
     "metadata": {},
     "output_type": "execute_result"
    }
   ],
   "source": [
    "std4.name"
   ]
  },
  {
   "cell_type": "code",
   "execution_count": null,
   "id": "b2b0ef21-daa8-4293-a0d1-cfd48c252eb5",
   "metadata": {},
   "outputs": [],
   "source": [
    "#INHERITANCE\n",
    "\n",
    "class Parent:\n",
    "    def __init__(self, name, surname):\n",
    "        self.name = name\n",
    "        self.surname = surname\n",
    "    def show_details(self):\n",
    "        print(F\"my name is {self.name} {self.surname} and i am {self.age} years old\")\n",
    "\n",
    "class Child(Parent):\n",
    "    def __init__(self, name, surname, age):\n",
    "        super().__init__(name, surname)\n",
    "        self.age = age\n",
    "\n",
    "    def intro(self):\n",
    "        super().show_details()"
   ]
  },
  {
   "cell_type": "code",
   "execution_count": 36,
   "id": "e6053c8c-827f-48a6-90f8-57710700d980",
   "metadata": {},
   "outputs": [
    {
     "name": "stdout",
     "output_type": "stream",
     "text": [
      "my name is Mayur Buchkul and i am 21 years old\n"
     ]
    }
   ],
   "source": [
    "child1 = Child(\"Mayur\",\"Buchkul\",21)\n",
    "child1.intro()"
   ]
  },
  {
   "cell_type": "code",
   "execution_count": 51,
   "id": "62f1ef5f-947e-41d8-bbf8-5ff05abba974",
   "metadata": {},
   "outputs": [],
   "source": [
    "#ENCAPSULATION\n",
    "\n",
    "class ATM:\n",
    "    def __init__(self, name, card_no,pin):\n",
    "        self.name = name\n",
    "        self._card_no = card_no #Protected property\n",
    "        self.__pin = pin # private property\n",
    "\n",
    "    def get_pin(self):\n",
    "        return self.__pin\n",
    "\n",
    "atm1 = ATM(\"Mayur\",8928703062,1234)\n"
   ]
  },
  {
   "cell_type": "code",
   "execution_count": 52,
   "id": "9de023aa-2ec3-40aa-a311-90fde5c141db",
   "metadata": {},
   "outputs": [
    {
     "data": {
      "text/plain": [
       "'Mayur'"
      ]
     },
     "execution_count": 52,
     "metadata": {},
     "output_type": "execute_result"
    }
   ],
   "source": [
    "atm1.name"
   ]
  },
  {
   "cell_type": "code",
   "execution_count": 53,
   "id": "5308b077-48ff-4db6-85f7-1ef1f1a8588a",
   "metadata": {},
   "outputs": [
    {
     "data": {
      "text/plain": [
       "1234"
      ]
     },
     "execution_count": 53,
     "metadata": {},
     "output_type": "execute_result"
    }
   ],
   "source": [
    "atm1.get_pin()"
   ]
  },
  {
   "cell_type": "code",
   "execution_count": 56,
   "id": "533469fb-e6b0-43c2-9e84-41f01515f9f9",
   "metadata": {},
   "outputs": [
    {
     "data": {
      "text/plain": [
       "8928703062"
      ]
     },
     "execution_count": 56,
     "metadata": {},
     "output_type": "execute_result"
    }
   ],
   "source": [
    "atm1._card_no"
   ]
  },
  {
   "cell_type": "code",
   "execution_count": 57,
   "id": "199e7d0c-f97f-4c27-b150-dfd84e5458e3",
   "metadata": {},
   "outputs": [],
   "source": [
    "# POLYMORPHISM\n",
    "\n",
    "class Parent:\n",
    "    def __init__(self, name, surname):\n",
    "        self.name = name\n",
    "        self.surname = surname\n",
    "    def show_details(self):\n",
    "        print(F\"my name is {self.name} {self.surname} and i am {self.age} years old\")\n",
    "\n",
    "class Child(Parent):\n",
    "    def __init__(self, name, surname, age):\n",
    "        super().__init__(name, surname)\n",
    "        self.age = age\n",
    "\n",
    "    def show_details(self):\n",
    "        print(F\"my name is {self.name} {self.surname} and i am {self.age} years old\")\n"
   ]
  },
  {
   "cell_type": "code",
   "execution_count": 67,
   "id": "6df59232-30b4-4c81-a03f-52b0482b9c53",
   "metadata": {},
   "outputs": [
    {
     "data": {
      "text/plain": [
       "<__main__.OPPO at 0x20a8b7528d0>"
      ]
     },
     "execution_count": 67,
     "metadata": {},
     "output_type": "execute_result"
    }
   ],
   "source": [
    "#ABSTRACTION.\n",
    "\n",
    "from abc import ABC, abstractmethod\n",
    "class Mobile(ABC):\n",
    "    def __init__(self, name, price):\n",
    "        self.name = name\n",
    "        self.price = price\n",
    "\n",
    "    @abstractmethod\n",
    "    def calling(self):\n",
    "        pass\n",
    "        \n",
    "    def messaging(self):\n",
    "        pass\n",
    "    \n",
    "class OPPO(Mobile):\n",
    "    def __init__(self, name, price,camera):\n",
    "        super().__init__(name, price)\n",
    "        self.camera = camera\n",
    "        \n",
    "    def calling(self):\n",
    "        print(f\"{self.name} is calling\")\n",
    "        \n",
    "    def messaging(self):\n",
    "        print(f\"{self.name} is messaging\")\n",
    "        \n",
    "\n",
    "mob1 = OPPO(\"Reno_7\",24000,\"50MP\")\n",
    "mob1"
   ]
  },
  {
   "cell_type": "code",
   "execution_count": 68,
   "id": "5e001883-4f17-4b04-bc64-009001d3dd4d",
   "metadata": {},
   "outputs": [
    {
     "data": {
      "text/plain": [
       "'Reno_7'"
      ]
     },
     "execution_count": 68,
     "metadata": {},
     "output_type": "execute_result"
    }
   ],
   "source": [
    "mob1.name"
   ]
  },
  {
   "cell_type": "code",
   "execution_count": null,
   "id": "a95144bc-cc9b-409e-b49b-cdd0f68124aa",
   "metadata": {},
   "outputs": [],
   "source": []
  }
 ],
 "metadata": {
  "kernelspec": {
   "display_name": "Python 3 (ipykernel)",
   "language": "python",
   "name": "python3"
  },
  "language_info": {
   "codemirror_mode": {
    "name": "ipython",
    "version": 3
   },
   "file_extension": ".py",
   "mimetype": "text/x-python",
   "name": "python",
   "nbconvert_exporter": "python",
   "pygments_lexer": "ipython3",
   "version": "3.12.7"
  }
 },
 "nbformat": 4,
 "nbformat_minor": 5
}
